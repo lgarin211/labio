{
 "cells": [
  {
   "cell_type": "code",
   "execution_count": 9,
   "metadata": {},
   "outputs": [
    {
     "name": "stdout",
     "output_type": "stream",
     "text": [
      "<class 'Bio.Seq.Seq'>\n",
      "35.714285714285715\n",
      "31.440606551129452\n",
      "30.037667211264704\n",
      "38.0\n",
      "4397.8126999999995\n"
     ]
    }
   ],
   "source": [
    "from Bio.Seq import Seq\n",
    "print(Seq)\n",
    "#gccontent\n",
    "DNA_Zenli=Seq(\"GATGATATGGATCT\")\n",
    "print((DNA_Zenli.count(\"G\")+DNA_Zenli.count(\"C\"))/len(DNA_Zenli)*100)\n",
    "\n",
    "# melting temperature\n",
    "from Bio.SeqUtils import MeltingTemp as mt\n",
    "print(mt.Tm_GC(DNA_Zenli))\n",
    "print(mt.Tm_NN(DNA_Zenli))\n",
    "print(mt.Tm_Wallace(DNA_Zenli))\n",
    "      \n",
    "# Molecular weight\n",
    "from Bio.SeqUtils import molecular_weight as mw\n",
    "print(mw(DNA_Zenli))"
   ]
  }
 ],
 "metadata": {
  "kernelspec": {
   "display_name": "Python 3",
   "language": "python",
   "name": "python3"
  },
  "language_info": {
   "codemirror_mode": {
    "name": "ipython",
    "version": 3
   },
   "file_extension": ".py",
   "mimetype": "text/x-python",
   "name": "python",
   "nbconvert_exporter": "python",
   "pygments_lexer": "ipython3",
   "version": "3.7.17"
  }
 },
 "nbformat": 4,
 "nbformat_minor": 2
}
