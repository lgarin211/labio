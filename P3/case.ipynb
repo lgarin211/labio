{
 "cells": [
  {
   "cell_type": "code",
   "execution_count": 1,
   "metadata": {},
   "outputs": [],
   "source": [
    "from Bio.Seq import Seq "
   ]
  },
  {
   "cell_type": "code",
   "execution_count": 4,
   "metadata": {},
   "outputs": [],
   "source": [
    "Adna_seq = Seq(\"ATGCGTTTATGACGTATCTGAAGTCTACTAGGGTGATCTGACTAA\")\n",
    "Bna_seq = Seq(\"GTGTTAGTGCGCTAGTGCTGACTAGGTACAGTAGCTAGTTACTAG\")"
   ]
  },
  {
   "cell_type": "code",
   "execution_count": 5,
   "metadata": {},
   "outputs": [],
   "source": [
    "# •\tTranscribe the DNA sequence A and sequence B into mRNA.\n",
    "Amrna_seq = Adna_seq.transcribe()\n",
    "Bmrna_seq = Bna_seq.transcribe()\n",
    "print(\"mRNA sequence of A is: \", Amrna_seq)\n",
    "print(\"mRNA sequence of B is: \", Bmrna_seq)\n"
   ]
  },
  {
   "cell_type": "code",
   "execution_count": 9,
   "metadata": {},
   "outputs": [
    {
     "name": "stdout",
     "output_type": "stream",
     "text": [
      "mRNA sequence of C is:  AUGCGUUUAUGACGUAUCUGAAGUGGUACAGUAGCUAGUUACUAG\n"
     ]
    }
   ],
   "source": [
    "# •\tCombine 24 starting nucleotides of mRNA sequence A and 21 ending nucleotides of mRNA sequence B and set it as mRNA sequence C.\n",
    "Cmrna_seq = Amrna_seq[:24] + Bmrna_seq[-21:]\n",
    "print(\"mRNA sequence of C is: \", Cmrna_seq)"
   ]
  },
  {
   "cell_type": "code",
   "execution_count": 12,
   "metadata": {},
   "outputs": [
    {
     "name": "stdout",
     "output_type": "stream",
     "text": [
      "Amino acid sequence of A is:  MRL*RI*SLLG*SD*\n",
      "Amino acid sequence of B is:  VLVR*C*LGTVASY*\n",
      "Amino acid sequence of C is:  MRL*RI*SGTVASY*\n"
     ]
    }
   ],
   "source": [
    "# •\tTranslate the mRNA sequence A, sequence B, and sequence C into amino acids sequences.\n",
    "Aa_seq = Amrna_seq.translate()\n",
    "Ba_seq = Bmrna_seq.translate()\n",
    "Ca_seq = Cmrna_seq.translate()\n",
    "print(\"Amino acid sequence of A is: \", Aa_seq)\n",
    "print(\"Amino acid sequence of B is: \", Ba_seq)\n",
    "print(\"Amino acid sequence of C is: \", Ca_seq)\n"
   ]
  },
  {
   "cell_type": "code",
   "execution_count": 13,
   "metadata": {},
   "outputs": [
    {
     "name": "stdout",
     "output_type": "stream",
     "text": [
      "DNA sequence of C is:  ATGCGTTTATGACGTATCTGAAGTGGTACAGTAGCTAGTTACTAG\n"
     ]
    }
   ],
   "source": [
    "# •\tTranscribe back the mRNA sequence C into DNA.\n",
    "Cdna_seq = Cmrna_seq.back_transcribe()\n",
    "print(\"DNA sequence of C is: \", Cdna_seq)"
   ]
  },
  {
   "cell_type": "code",
   "execution_count": 14,
   "metadata": {},
   "outputs": [
    {
     "name": "stdout",
     "output_type": "stream",
     "text": [
      "Complementary sequence of A is:  TACGCAAATACTGCATAGACTTCAGATGATCCCACTAGACTGATT\n",
      "Complementary sequence of B is:  CACAATCACGCGATCACGACTGATCCATGTCATCGATCAATGATC\n",
      "Complementary sequence of C is:  TACGCAAATACTGCATAGACTTCACCATGTCATCGATCAATGATC\n"
     ]
    }
   ],
   "source": [
    "# •\tCalculate the complementary sequences of DNA sequence A, sequence B, and sequence C.\n",
    "Acomp_seq = Adna_seq.complement()\n",
    "Bcomp_seq = Bna_seq.complement()\n",
    "Ccomp_seq = Cdna_seq.complement()\n",
    "print(\"Complementary sequence of A is: \", Acomp_seq)\n",
    "print(\"Complementary sequence of B is: \", Bcomp_seq)\n",
    "print(\"Complementary sequence of C is: \", Ccomp_seq)\n"
   ]
  }
 ],
 "metadata": {
  "kernelspec": {
   "display_name": ".venv",
   "language": "python",
   "name": "python3"
  },
  "language_info": {
   "codemirror_mode": {
    "name": "ipython",
    "version": 3
   },
   "file_extension": ".py",
   "mimetype": "text/x-python",
   "name": "python",
   "nbconvert_exporter": "python",
   "pygments_lexer": "ipython3",
   "version": "3.7.17"
  }
 },
 "nbformat": 4,
 "nbformat_minor": 2
}
